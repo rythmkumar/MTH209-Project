{
 "cells": [
  {
   "cell_type": "code",
   "execution_count": null,
   "metadata": {
    "scrolled": true
   },
   "outputs": [],
   "source": [
    "import pandas as pd\n",
    "import numpy as np"
   ]
  },
  {
   "cell_type": "code",
   "execution_count": null,
   "metadata": {
    "scrolled": true
   },
   "outputs": [],
   "source": [
    "data = pd.read_csv('./data/songs.csv', index_col=0)"
   ]
  },
  {
   "cell_type": "code",
   "execution_count": null,
   "metadata": {
    "scrolled": true
   },
   "outputs": [],
   "source": [
    "data.Title = data['Title'].str.lower()\n",
    "data.Artist = data['Artist'].str.lower()"
   ]
  },
  {
   "cell_type": "code",
   "execution_count": null,
   "metadata": {
    "scrolled": true
   },
   "outputs": [],
   "source": [
    "data.head()"
   ]
  },
  {
   "cell_type": "markdown",
   "metadata": {},
   "source": [
    "# Get Spotify URI"
   ]
  },
  {
   "cell_type": "code",
   "execution_count": null,
   "metadata": {
    "scrolled": true
   },
   "outputs": [],
   "source": [
    "from spotipy.oauth2 import SpotifyClientCredentials\n",
    "from tqdm import tqdm_notebook\n",
    "import spotipy\n",
    "import spotipy.util as util\n",
    "import re\n",
    "from fuzzywuzzy import fuzz\n",
    "from fuzzywuzzy import process\n",
    "import time"
   ]
  },
  {
   "cell_type": "code",
   "execution_count": null,
   "metadata": {
    "scrolled": true
   },
   "outputs": [],
   "source": [
    "token = spotipy.oauth2.SpotifyClientCredentials(client_id='1daf48cd25554b06b98bf85588530a75', client_secret='177e923c04f34680a3e00a595a659077')\n",
    "cache_token = token.get_access_token()\n",
    "spotify = spotipy.Spotify(cache_token)\n",
    "sp = spotipy.Spotify(auth=cache_token)"
   ]
  },
  {
   "cell_type": "code",
   "execution_count": null,
   "metadata": {
    "scrolled": true
   },
   "outputs": [],
   "source": [
    "titles = list(data.Title)\n",
    "artists = list(data.Artist)"
   ]
  },
  {
   "cell_type": "code",
   "execution_count": null,
   "metadata": {
    "scrolled": true
   },
   "outputs": [],
   "source": [
    "spotify_uri = list()\n",
    "errors = list()"
   ]
  },
  {
   "cell_type": "code",
   "execution_count": null,
   "metadata": {
    "scrolled": true
   },
   "outputs": [],
   "source": [
    "def get_spotify_uri(title, artist):\n",
    "    title_clean = re.sub(r\"[,.;@#?!&$%()]+\", ' ', title)\n",
    "    title_clean = re.sub('\\s+', ' ', title_clean).strip()\n",
    "    artist_clean = re.sub('\\s+', ' ', artist).strip()\n",
    "    \n",
    "    query = title_clean + \" \" + artist_clean\n",
    "    \n",
    "    search = sp.search(q=query, limit=50, offset=0, type='track', market='US')\n",
    "    search_items = search['tracks']['items']\n",
    "    \n",
    "    for i in range(len(search_items)):\n",
    "        spotify_title = search_items[i]['name']\n",
    "        spotify_artist = search_items[i]['artists'][0]['name']\n",
    "        \n",
    "        spotify_title_clean = re.sub(r\"[,.;@#?!&$%()]+\", ' ', spotify_title)\n",
    "        spotify_title_clean = re.sub('\\s+', ' ', title_clean).strip().lower()\n",
    "        spotify_artist_clean = spotify_artist.lower().strip().lower()\n",
    "        \n",
    "        fuzzy_title_match = fuzz.token_set_ratio(title_clean, spotify_title_clean)\n",
    "        fuzzy_artist_match = fuzz.token_set_ratio(artist_clean, spotify_artist_clean)\n",
    "        fuzzy_match = (fuzzy_title_match + fuzzy_artist_match) / 2\n",
    "\n",
    "        if (fuzzy_title_match >= 90) and (fuzzy_artist_match >= 50) and fuzzy_match >= 75:\n",
    "            uri = search_items[i]['id']\n",
    "            return uri\n",
    "    return 0"
   ]
  },
  {
   "cell_type": "code",
   "execution_count": null,
   "metadata": {},
   "outputs": [],
   "source": [
    "temp = list()\n",
    "\n",
    "for i in tqdm_notebook(range(0, 1000)):\n",
    "    uri = get_spotify_uri(titles[i], artists[i])\n",
    "    \n",
    "    if uri != 0:\n",
    "        temp.append(uri)\n",
    "    else:\n",
    "        temp.append(uri)\n",
    "        errors.append(i)\n",
    "        \n",
    "spotify_uri = spotify_uri + temp"
   ]
  },
  {
   "cell_type": "code",
   "execution_count": null,
   "metadata": {},
   "outputs": [],
   "source": [
    "data['URI'] = spotify_uri\n",
    "data = data[data.URI != 0]"
   ]
  },
  {
   "cell_type": "code",
   "execution_count": null,
   "metadata": {},
   "outputs": [],
   "source": [
    "data.to_csv('songs_w_uri.csv')"
   ]
  },
  {
   "cell_type": "markdown",
   "metadata": {},
   "source": [
    "# Get Spotify Features"
   ]
  },
  {
   "cell_type": "code",
   "execution_count": null,
   "metadata": {},
   "outputs": [],
   "source": [
    "from spotipy.oauth2 import SpotifyClientCredentials\n",
    "from tqdm import tqdm_notebook\n",
    "import spotipy\n",
    "import spotipy.util as util\n",
    "import re"
   ]
  },
  {
   "cell_type": "code",
   "execution_count": null,
   "metadata": {},
   "outputs": [],
   "source": [
    "token = spotipy.oauth2.SpotifyClientCredentials(client_id='1daf48cd25554b06b98bf85588530a75', client_secret='177e923c04f34680a3e00a595a659077')\n",
    "cache_token = token.get_access_token()\n",
    "spotify = spotipy.Spotify(cache_token)\n",
    "sp = spotipy.Spotify(auth=cache_token)"
   ]
  },
  {
   "cell_type": "code",
   "execution_count": null,
   "metadata": {},
   "outputs": [],
   "source": [
    "data = pd.read_csv('../data/songs_w_uri.csv', index_col=0)"
   ]
  },
  {
   "cell_type": "code",
   "execution_count": null,
   "metadata": {},
   "outputs": [],
   "source": [
    "uris = list(data.URI)\n",
    "\n",
    "danceability_list = list()\n",
    "energy_list = list()\n",
    "key_list = list()\n",
    "loudness_list = list()\n",
    "mode_list = list()\n",
    "speechiness_list = list()\n",
    "acousticness_list = list()\n",
    "instrumentalness_list = list()\n",
    "liveness_list = list()\n",
    "valence_list = list()\n",
    "tempo_list = list()\n",
    "duration_list = list()\n",
    "time_signature_list= list()"
   ]
  },
  {
   "cell_type": "code",
   "execution_count": null,
   "metadata": {},
   "outputs": [],
   "source": [
    "def get_audio_features(uri):\n",
    "    search = sp.audio_features(uri)\n",
    "    if search[0] == None:\n",
    "        danceability_list.append(np.nan)\n",
    "        energy_list.append(np.nan)\n",
    "        key_list.append(np.nan)\n",
    "        loudness_list.append(np.nan)\n",
    "        mode_list.append(np.nan)\n",
    "        speechiness_list.append(np.nan)\n",
    "        acousticness_list.append(np.nan)\n",
    "        instrumentalness_list.append(np.nan)\n",
    "        liveness_list.append(np.nan)\n",
    "        valence_list.append(np.nan)\n",
    "        tempo_list.append(np.nan)\n",
    "        duration_list.append(np.nan)\n",
    "        time_signature_list.append(np.nan) \n",
    "        return ('Error on: ' + str(uri))\n",
    "    \n",
    "    search_list = search[0]\n",
    "    \n",
    "    danceability_list.append(search_list['danceability'])\n",
    "    energy_list.append(search_list['energy'])\n",
    "    key_list.append(search_list['key'])\n",
    "    loudness_list.append(search_list['loudness'])\n",
    "    mode_list.append(search_list['mode'])\n",
    "    speechiness_list.append(search_list['speechiness'])\n",
    "    acousticness_list.append(search_list['acousticness'])\n",
    "    instrumentalness_list.append(search_list['instrumentalness'])\n",
    "    liveness_list.append(search_list['liveness'])\n",
    "    valence_list.append(search_list['valence'])\n",
    "    tempo_list.append(search_list['tempo'])\n",
    "    duration_list.append(search_list['duration_ms'])\n",
    "    time_signature_list.append(search_list['time_signature'])"
   ]
  },
  {
   "cell_type": "code",
   "execution_count": null,
   "metadata": {},
   "outputs": [],
   "source": [
    "for i in tqdm_notebook(range(len(uris))):\n",
    "    get_audio_features(uris[i])"
   ]
  },
  {
   "cell_type": "code",
   "execution_count": null,
   "metadata": {},
   "outputs": [],
   "source": [
    "data['Danceability'] = danceability_list\n",
    "data['Energy'] = energy_list\n",
    "data['Key'] = key_list\n",
    "data['Loudness'] = loudness_list\n",
    "data['Mode'] = mode_list\n",
    "data['Speechiness'] = speechiness_list\n",
    "data['Acousticness'] = acousticness_list\n",
    "data['Instrumentalness'] = instrumentalness_list\n",
    "data['Liveness'] = liveness_list\n",
    "data['Valence'] = valence_list\n",
    "data['Tempo'] = tempo_list\n",
    "data['Duration'] = duration_list\n",
    "data['Time_Signature'] = time_signature_list"
   ]
  },
  {
   "cell_type": "code",
   "execution_count": null,
   "metadata": {},
   "outputs": [],
   "source": [
    "data = data.dropna()"
   ]
  },
  {
   "cell_type": "code",
   "execution_count": null,
   "metadata": {},
   "outputs": [],
   "source": [
    "data.to_csv('songs_w_spotifyapi.csv')"
   ]
  },
  {
   "cell_type": "markdown",
   "metadata": {},
   "source": [
    "# Get Year"
   ]
  },
  {
   "cell_type": "code",
   "execution_count": null,
   "metadata": {},
   "outputs": [],
   "source": [
    "data = pd.read_csv(\"../data/songs_w_spotifyapi.csv\", index_col=0)"
   ]
  },
  {
   "cell_type": "code",
   "execution_count": null,
   "metadata": {},
   "outputs": [],
   "source": [
    "songs = list(data.Title)\n",
    "artists = list(data.Artist)\n",
    "years = list()\n",
    "errors = list()"
   ]
  },
  {
   "cell_type": "code",
   "execution_count": null,
   "metadata": {},
   "outputs": [],
   "source": [
    "def get_song_year(title, artist):\n",
    "    title_clean = re.sub(r\"[,.;@#?!&$%()]+\", ' ', title)\n",
    "    title_clean = re.sub('\\s+', ' ', title_clean).strip()\n",
    "    artist_clean = re.sub('\\s+', ' ', artist).strip()\n",
    "    \n",
    "    query = title_clean + \" \" + artist_clean\n",
    "    \n",
    "    try:\n",
    "        search = sp.search(q=query, limit=50, offset=0, type='track')\n",
    "        search_items = search['tracks']['items']\n",
    "        year = search_items[0]['album']['release_date']\n",
    "        return year\n",
    "    except Exception:\n",
    "        year = 0\n",
    "        return year"
   ]
  },
  {
   "cell_type": "code",
   "execution_count": null,
   "metadata": {},
   "outputs": [],
   "source": [
    "for i in tqdm_notebook(range(len(songs))):\n",
    "    year = get_song_year(songs[i], artists[i])\n",
    "    \n",
    "    if year != 0 :\n",
    "        years.append(year)\n",
    "    else:\n",
    "        years.append(year)\n",
    "        print(\"Errored on \" + str(i))\n",
    "        errors.append(i)    "
   ]
  },
  {
   "cell_type": "code",
   "execution_count": null,
   "metadata": {},
   "outputs": [],
   "source": [
    "new_years = list()\n",
    "\n",
    "def clean_year(date):\n",
    "    y = date.split('-')[0]\n",
    "    return int(y)"
   ]
  },
  {
   "cell_type": "code",
   "execution_count": null,
   "metadata": {},
   "outputs": [],
   "source": [
    "for i in years:\n",
    "    if i == 0:\n",
    "        new_years.append(i)\n",
    "    else:\n",
    "        x = clean_year(i)\n",
    "        new_years.append(x)"
   ]
  },
  {
   "cell_type": "code",
   "execution_count": null,
   "metadata": {},
   "outputs": [],
   "source": [
    "data['Release_Year'] = new_years\n",
    "data = data[data.Release_Year != 0]"
   ]
  },
  {
   "cell_type": "code",
   "execution_count": null,
   "metadata": {},
   "outputs": [],
   "source": [
    "data.to_csv('songs_w_features_year.csv')"
   ]
  },
  {
   "cell_type": "markdown",
   "metadata": {},
   "source": [
    "# Get Genre"
   ]
  },
  {
   "cell_type": "code",
   "execution_count": null,
   "metadata": {},
   "outputs": [],
   "source": [
    "data = pd.read_csv('../data/songs_w_features_year.csv', index_col=0)"
   ]
  },
  {
   "cell_type": "code",
   "execution_count": null,
   "metadata": {},
   "outputs": [],
   "source": [
    "artists = list(data.Artist)"
   ]
  },
  {
   "cell_type": "code",
   "execution_count": null,
   "metadata": {},
   "outputs": [],
   "source": [
    "def get_first_artist(artist):\n",
    "    \n",
    "    #Handling , or and\n",
    "    for i in range(len(artist)):\n",
    "        if artist[i] == ',' or artist[i] == '&':\n",
    "              return artist[0:i]\n",
    "        if artist[i:i+3] == 'and':\n",
    "              return artist[0:i]\n",
    "    return artist\n",
    "\n",
    "#Helper function to take subgenres of each artist and find the most frequent common genre within potentially 1000 subgenres\n",
    "def get_common_genres(test_subgenres, common_genre_keywords):\n",
    "    \n",
    "    final_genres = []\n",
    "    genre_frequency_map = {}\n",
    "  \n",
    "    #Checking the subgenres to see if they match common genre keywords\n",
    "\n",
    "    for keyword in common_genre_keywords:\n",
    "        for subg in test_subgenres:\n",
    "            if keyword in subg:\n",
    "                final_genres.append(keyword)\n",
    "\n",
    "    #If no final genres can be identified, return None.\n",
    "    if len(final_genres) == 0:\n",
    "        return \"None\"\n",
    "\n",
    "    #Counting the number of each genre keyword and returning the one with the highest count (as the \"common genre\")\n",
    "\n",
    "    for genre in final_genres:\n",
    "        if genre in genre_frequency_map.keys():\n",
    "            current_value = genre_frequency_map[genre]\n",
    "            genre_frequency_map[genre] = current_value + 1\n",
    "        else:\n",
    "            genre_frequency_map[genre] = 1\n",
    "\n",
    "    #Getting most frequent common genre.\n",
    "\n",
    "    max_value = max(genre_frequency_map.values())  # maximum value\n",
    "    max_keys = [k for k, v in genre_frequency_map.items() if v == max_value]\n",
    "    return max_keys[0]"
   ]
  },
  {
   "cell_type": "code",
   "execution_count": null,
   "metadata": {},
   "outputs": [],
   "source": [
    "def get_genres_for_each_artist(artists):\n",
    "    \n",
    "    final_genre_list = []\n",
    "    #Most popular American Music Genres\n",
    "    common_genre_keywords = [\"rap\", \"pop\", \"rock\", \"country\", \"alternative\", \"r&b\" \"latin\", \"edm\", \"seasonal\", \"jazz\", \"classical\", \"metal\", \"reggae\"]\n",
    "    \n",
    "    for i in tqdm_notebook(range(len(artists))):\n",
    "        artist_name = artists[i]\n",
    "        #Clean Artist Name \n",
    "        artist_name = get_first_artist(artist_name)\n",
    "        #Include stripping code of and etc. here\n",
    " \n",
    "        #stripping regex symbols and getting the prominent artist name\n",
    "      \n",
    "        #artist_name = re.sub(r\"[,.;@#?!&$-/]+\", ' ', artist_name)\n",
    "        #artist_name = re.sub('\\s+', ' ', artist_name).strip()\n",
    "        #artist_name = artist_name(' ')[0]\n",
    " \n",
    "        #Using the spotify search functionality and extracting the list of subgenres.\n",
    "        try:\n",
    "            search = sp.search(q=artist_name, limit=1, offset=0, type='artist', market='US')\n",
    "        except Exception:\n",
    "            print('Spotify error for ' + str(i))\n",
    "            final_genre_list.append('None')\n",
    "            continue\n",
    "            \n",
    "\n",
    "        try:\n",
    "            list_of_subgenres = search['artists']['items'][0]['genres']\n",
    "            common_genre = get_common_genres(list_of_subgenres, common_genre_keywords)\n",
    "            final_genre_list.append(common_genre)\n",
    "        except IndexError:\n",
    "            print('No Genre for ' + str(i))\n",
    "            final_genre_list.append('None')\n",
    "            continue\n",
    "    \n",
    "    return final_genre_list"
   ]
  },
  {
   "cell_type": "code",
   "execution_count": null,
   "metadata": {},
   "outputs": [],
   "source": [
    "genres_list = get_genres_for_each_artist(artists)"
   ]
  },
  {
   "cell_type": "code",
   "execution_count": null,
   "metadata": {},
   "outputs": [],
   "source": [
    "data['Genre'] = genres_list\n",
    "data = data[data['Genre'] != 'None']"
   ]
  },
  {
   "cell_type": "code",
   "execution_count": null,
   "metadata": {},
   "outputs": [],
   "source": [
    "data.to_csv('songs_complete_data.csv')"
   ]
  }
 ],
 "metadata": {
  "kernelspec": {
   "display_name": "Python 3",
   "language": "python",
   "name": "python3"
  },
  "language_info": {
   "codemirror_mode": {
    "name": "ipython",
    "version": 3
   },
   "file_extension": ".py",
   "mimetype": "text/x-python",
   "name": "python",
   "nbconvert_exporter": "python",
   "pygments_lexer": "ipython3",
   "version": "3.11.4"
  }
 },
 "nbformat": 4,
 "nbformat_minor": 2
}
