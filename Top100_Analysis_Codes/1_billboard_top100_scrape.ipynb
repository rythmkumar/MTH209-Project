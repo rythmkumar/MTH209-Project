{
 "cells": [
  {
   "cell_type": "code",
   "execution_count": null,
   "metadata": {},
   "outputs": [],
   "source": [
    "import pandas as pd\n",
    "import numpy as np"
   ]
  },
  {
   "cell_type": "markdown",
   "metadata": {},
   "source": [
    "# Billboard Year-End Hot 100 Charts 2000-2018"
   ]
  },
  {
   "cell_type": "code",
   "execution_count": null,
   "metadata": {},
   "outputs": [],
   "source": [
    "billboard100_df = pd.DataFrame(columns=['Title', 'Artist', 'Year'])\n",
    "billboard100_df"
   ]
  },
  {
   "cell_type": "code",
   "execution_count": null,
   "metadata": {},
   "outputs": [],
   "source": [
    "url_template = 'https://en.wikipedia.org/wiki/Billboard_Year-End_Hot_100_singles_of_'\n",
    "\n",
    "years = [2000, 2001, 2002, 2003, 2004, 2005, 2006, \n",
    "         2007, 2008, 2009, 2010, 2011, 2012, 2013,\n",
    "         2014, 2015, 2016, 2017, 2018]"
   ]
  },
  {
   "cell_type": "code",
   "execution_count": null,
   "metadata": {},
   "outputs": [],
   "source": [
    "# 2000\n",
    "url = url_template + str(2000)\n",
    "\n",
    "temp_df = pd.read_html(url, header=0)[0]\n",
    "temp_df.head()\n",
    "temp_df.columns.values[2] = \"Artist\"\n",
    "temp_df = temp_df.drop(temp_df.columns[0], axis=1)\n",
    "temp_df.Artist = [artist.split(' featuring')[0] for artist in temp_df.Artist]\n",
    "temp_df.Title = [title.strip('\\\"') for title in temp_df.Title]\n",
    "temp_df['Year'] = 2000\n",
    "\n",
    "billboard100_df = billboard100_df.append(temp_df)"
   ]
  },
  {
   "cell_type": "code",
   "execution_count": null,
   "metadata": {},
   "outputs": [],
   "source": [
    "# 2001\n",
    "url = url_template + str(2001)\n",
    "\n",
    "temp_df = pd.read_html(url, header=0)[0]\n",
    "temp_df.head()\n",
    "temp_df.columns.values[2] = \"Artist\"\n",
    "temp_df = temp_df.drop(temp_df.columns[0], axis=1)\n",
    "temp_df.Artist = [artist.split(' featuring')[0] for artist in temp_df.Artist]\n",
    "temp_df.Title = [title.strip('\\\"') for title in temp_df.Title]\n",
    "temp_df['Year'] = 2001\n",
    "\n",
    "billboard100_df = billboard100_df.append(temp_df)"
   ]
  },
  {
   "cell_type": "code",
   "execution_count": null,
   "metadata": {},
   "outputs": [],
   "source": [
    "# 2002\n",
    "url = url_template + str(2002)\n",
    "\n",
    "temp_df = pd.read_html(url, header=0)[0]\n",
    "temp_df.head()\n",
    "temp_df.columns.values[2] = \"Artist\"\n",
    "temp_df = temp_df.drop(temp_df.columns[0], axis=1)\n",
    "temp_df.Artist = [artist.split(' featuring')[0] for artist in temp_df.Artist]\n",
    "temp_df.Title = [title.strip('\\\"') for title in temp_df.Title]\n",
    "temp_df['Year'] = 2002\n",
    "\n",
    "billboard100_df = billboard100_df.append(temp_df)"
   ]
  },
  {
   "cell_type": "code",
   "execution_count": null,
   "metadata": {},
   "outputs": [],
   "source": [
    "# 2003\n",
    "url = url_template + str(2003)\n",
    "\n",
    "temp_df = pd.read_html(url, header=0)[0]\n",
    "temp_df.head()\n",
    "temp_df.columns.values[2] = \"Artist\"\n",
    "temp_df = temp_df.drop(temp_df.columns[0], axis=1)\n",
    "temp_df.Artist = [artist.split(' featuring')[0] for artist in temp_df.Artist]\n",
    "temp_df.Title = [title.strip('\\\"') for title in temp_df.Title]\n",
    "temp_df['Year'] = 2003\n",
    "\n",
    "billboard100_df = billboard100_df.append(temp_df)"
   ]
  },
  {
   "cell_type": "code",
   "execution_count": null,
   "metadata": {},
   "outputs": [],
   "source": [
    "# 2004\n",
    "url = url_template + str(2004)\n",
    "\n",
    "temp_df = pd.read_html(url, header=0)[0]\n",
    "temp_df.head()\n",
    "temp_df.columns.values[2] = \"Artist\"\n",
    "temp_df = temp_df.drop(temp_df.columns[0], axis=1)\n",
    "temp_df.Artist = [artist.split(' featuring')[0] for artist in temp_df.Artist]\n",
    "temp_df.Title = [title.strip('\\\"') for title in temp_df.Title]\n",
    "temp_df['Year'] = 2004\n",
    "\n",
    "billboard100_df = billboard100_df.append(temp_df)\n"
   ]
  },
  {
   "cell_type": "code",
   "execution_count": null,
   "metadata": {},
   "outputs": [],
   "source": [
    "# 2005\n",
    "url = url_template + str(2005)\n",
    "\n",
    "temp_df = pd.read_html(url, header=0)[0]\n",
    "temp_df.head()\n",
    "temp_df.columns.values[2] = \"Artist\"\n",
    "temp_df = temp_df.drop(temp_df.columns[0], axis=1)\n",
    "temp_df.Artist = [artist.split(' featuring')[0] for artist in temp_df.Artist]\n",
    "temp_df.Title = [title.strip('\\\"') for title in temp_df.Title]\n",
    "temp_df['Year'] = 2005\n",
    "\n",
    "billboard100_df = billboard100_df.append(temp_df)"
   ]
  },
  {
   "cell_type": "code",
   "execution_count": null,
   "metadata": {},
   "outputs": [],
   "source": [
    "# 2006\n",
    "url = url_template + str(2006)\n",
    "\n",
    "temp_df = pd.read_html(url, header=0)[0]\n",
    "temp_df.head()\n",
    "temp_df.columns.values[2] = \"Artist\"\n",
    "temp_df = temp_df.drop(temp_df.columns[0], axis=1)\n",
    "temp_df.Artist = [artist.split(' featuring')[0] for artist in temp_df.Artist]\n",
    "temp_df.Title = [title.strip('\\\"') for title in temp_df.Title]\n",
    "temp_df['Year'] = 2006\n",
    "\n",
    "billboard100_df = billboard100_df.append(temp_df)"
   ]
  },
  {
   "cell_type": "code",
   "execution_count": null,
   "metadata": {},
   "outputs": [],
   "source": [
    "# 2007\n",
    "url = url_template + str(2007)\n",
    "\n",
    "temp_df = pd.read_html(url, header=0)[0]\n",
    "temp_df.head()\n",
    "temp_df.columns.values[2] = \"Artist\"\n",
    "temp_df = temp_df.drop(temp_df.columns[0], axis=1)\n",
    "temp_df.Artist = [artist.split(' featuring')[0] for artist in temp_df.Artist]\n",
    "temp_df.Title = [title.strip('\\\"') for title in temp_df.Title]\n",
    "temp_df['Year'] = 2007\n",
    "\n",
    "billboard100_df = billboard100_df.append(temp_df)"
   ]
  },
  {
   "cell_type": "code",
   "execution_count": null,
   "metadata": {},
   "outputs": [],
   "source": [
    "# 2008\n",
    "url = url_template + str(2008)\n",
    "\n",
    "temp_df = pd.read_html(url, header=0)[0]\n",
    "temp_df.head()\n",
    "temp_df.columns.values[2] = \"Artist\"\n",
    "temp_df = temp_df.drop(temp_df.columns[0], axis=1)\n",
    "temp_df.Artist = [artist.split(' featuring')[0] for artist in temp_df.Artist]\n",
    "temp_df.Title = [title.strip('\\\"') for title in temp_df.Title]\n",
    "temp_df['Year'] = 2008\n",
    "\n",
    "billboard100_df = billboard100_df.append(temp_df)"
   ]
  },
  {
   "cell_type": "code",
   "execution_count": null,
   "metadata": {},
   "outputs": [],
   "source": [
    "# 2009\n",
    "url = url_template + str(2009)\n",
    "\n",
    "temp_df = pd.read_html(url, header=0)[0]\n",
    "temp_df.head()\n",
    "temp_df.columns.values[2] = \"Artist\"\n",
    "temp_df = temp_df.drop(temp_df.columns[0], axis=1)\n",
    "temp_df.Artist = [artist.split(' featuring')[0] for artist in temp_df.Artist]\n",
    "temp_df.Title = [title.strip('\\\"') for title in temp_df.Title]\n",
    "temp_df['Year'] = 2009\n",
    "\n",
    "billboard100_df = billboard100_df.append(temp_df)"
   ]
  },
  {
   "cell_type": "code",
   "execution_count": null,
   "metadata": {},
   "outputs": [],
   "source": [
    "# 2010\n",
    "url = url_template + str(2010)\n",
    "\n",
    "temp_df = pd.read_html(url, header=0)[0]\n",
    "temp_df.head()\n",
    "temp_df.columns.values[2] = \"Artist\"\n",
    "temp_df = temp_df.drop(temp_df.columns[0], axis=1)\n",
    "temp_df.Artist = [artist.split(' featuring')[0] for artist in temp_df.Artist]\n",
    "temp_df.Title = [title.strip('\\\"') for title in temp_df.Title]\n",
    "temp_df['Year'] = 2010\n",
    "\n",
    "billboard100_df = billboard100_df.append(temp_df)"
   ]
  },
  {
   "cell_type": "code",
   "execution_count": null,
   "metadata": {},
   "outputs": [],
   "source": [
    "# 2011\n",
    "url = url_template + str(2011)\n",
    "\n",
    "temp_df = pd.read_html(url, header=0)[0]\n",
    "temp_df.head()\n",
    "temp_df.columns.values[2] = \"Artist\"\n",
    "temp_df = temp_df.drop(temp_df.columns[0], axis=1)\n",
    "temp_df.Artist = [artist.split(' featuring')[0] for artist in temp_df.Artist]\n",
    "temp_df.Title = [title.strip('\\\"') for title in temp_df.Title]\n",
    "temp_df['Year'] = 2011\n",
    "\n",
    "billboard100_df = billboard100_df.append(temp_df)"
   ]
  },
  {
   "cell_type": "code",
   "execution_count": null,
   "metadata": {},
   "outputs": [],
   "source": [
    "# 2012\n",
    "url = url_template + str(2012)\n",
    "\n",
    "temp_df = pd.read_html(url, header=0)[1]\n",
    "temp_df.head()\n",
    "temp_df.columns.values[2] = \"Artist\"\n",
    "temp_df = temp_df.drop(temp_df.columns[0], axis=1)\n",
    "temp_df.Artist = [artist.split(' featuring')[0] for artist in temp_df.Artist]\n",
    "temp_df.Title = [title.strip('\\\"') for title in temp_df.Title]\n",
    "temp_df['Year'] = 2012\n",
    "\n",
    "billboard100_df = billboard100_df.append(temp_df)"
   ]
  },
  {
   "cell_type": "code",
   "execution_count": null,
   "metadata": {},
   "outputs": [],
   "source": [
    "# 2013\n",
    "url = url_template + str(2013)\n",
    "\n",
    "temp_df = pd.read_html(url, header=0)[1]\n",
    "temp_df.head()\n",
    "temp_df.columns.values[2] = \"Artist\"\n",
    "temp_df = temp_df.drop(temp_df.columns[0], axis=1)\n",
    "temp_df.Artist = [artist.split(' featuring')[0] for artist in temp_df.Artist]\n",
    "temp_df.Title = [title.strip('\\\"') for title in temp_df.Title]\n",
    "temp_df['Year'] = 2013\n",
    "\n",
    "billboard100_df = billboard100_df.append(temp_df)"
   ]
  },
  {
   "cell_type": "code",
   "execution_count": null,
   "metadata": {},
   "outputs": [],
   "source": [
    "# 2014\n",
    "url = url_template + str(2014)\n",
    "\n",
    "temp_df = pd.read_html(url, header=0)[0]\n",
    "temp_df.head()\n",
    "temp_df.columns.values[2] = \"Artist\"\n",
    "temp_df = temp_df.drop(temp_df.columns[0], axis=1)\n",
    "temp_df.Artist = [artist.split(' featuring')[0] for artist in temp_df.Artist]\n",
    "temp_df.Title = [title.strip('\\\"') for title in temp_df.Title]\n",
    "temp_df['Year'] = 2014\n",
    "\n",
    "billboard100_df = billboard100_df.append(temp_df)"
   ]
  },
  {
   "cell_type": "code",
   "execution_count": null,
   "metadata": {},
   "outputs": [],
   "source": [
    "# 2015\n",
    "url = url_template + str(2015)\n",
    "\n",
    "temp_df = pd.read_html(url, header=0)[0]\n",
    "temp_df.head()\n",
    "temp_df.columns.values[2] = \"Artist\"\n",
    "temp_df = temp_df.drop(temp_df.columns[0], axis=1)\n",
    "temp_df.Artist = [artist.split(' featuring')[0] for artist in temp_df.Artist]\n",
    "temp_df.Title = [title.strip('\\\"') for title in temp_df.Title]\n",
    "temp_df['Year'] = 2015\n",
    "\n",
    "billboard100_df = billboard100_df.append(temp_df)"
   ]
  },
  {
   "cell_type": "code",
   "execution_count": null,
   "metadata": {},
   "outputs": [],
   "source": [
    "# 2016\n",
    "url = url_template + str(2016)\n",
    "\n",
    "temp_df = pd.read_html(url, header=0)[0]\n",
    "temp_df.head()\n",
    "temp_df.columns.values[2] = \"Artist\"\n",
    "temp_df = temp_df.drop(temp_df.columns[0], axis=1)\n",
    "temp_df.Artist = [artist.split(' featuring')[0] for artist in temp_df.Artist]\n",
    "temp_df.Title = [title.strip('\\\"') for title in temp_df.Title]\n",
    "temp_df['Year'] = 2016\n",
    "\n",
    "billboard100_df = billboard100_df.append(temp_df)"
   ]
  },
  {
   "cell_type": "code",
   "execution_count": null,
   "metadata": {},
   "outputs": [],
   "source": [
    "# 2017\n",
    "url = url_template + str(2017)\n",
    "\n",
    "temp_df = pd.read_html(url, header=0)[0]\n",
    "temp_df.head()\n",
    "temp_df.columns.values[2] = \"Artist\"\n",
    "temp_df = temp_df.drop(temp_df.columns[0], axis=1)\n",
    "temp_df.Artist = [artist.split(' featuring')[0] for artist in temp_df.Artist]\n",
    "temp_df.Title = [title.strip('\\\"') for title in temp_df.Title]\n",
    "temp_df['Year'] = 2017\n",
    "\n",
    "billboard100_df = billboard100_df.append(temp_df)"
   ]
  },
  {
   "cell_type": "code",
   "execution_count": null,
   "metadata": {},
   "outputs": [],
   "source": [
    "# 2018\n",
    "url = url_template + str(2018)\n",
    "\n",
    "temp_df = pd.read_html(url, header=0)[0]\n",
    "temp_df.head()\n",
    "temp_df.columns.values[2] = \"Artist\"\n",
    "temp_df = temp_df.drop(temp_df.columns[0], axis=1)\n",
    "temp_df.Artist = [artist.split(' featuring')[0] for artist in temp_df.Artist]\n",
    "temp_df.Title = [title.strip('\\\"') for title in temp_df.Title]\n",
    "temp_df['Year'] = 2018\n",
    "\n",
    "billboard100_df = billboard100_df.append(temp_df)\n"
   ]
  },
  {
   "cell_type": "code",
   "execution_count": null,
   "metadata": {
    "scrolled": true
   },
   "outputs": [],
   "source": [
    "billboard100_df = billboard100_df.reset_index(drop=True)\n",
    "billboard100_df['Year'] = pd.to_numeric(billboard100_df['Year'])\n",
    "billboard100_df['Title'] = billboard100_df['Title'].astype(str)\n",
    "billboard100_df['Artist'] = billboard100_df['Artist'].astype(str)"
   ]
  },
  {
   "cell_type": "code",
   "execution_count": null,
   "metadata": {},
   "outputs": [],
   "source": [
    "billboard100_df"
   ]
  },
  {
   "cell_type": "code",
   "execution_count": null,
   "metadata": {},
   "outputs": [],
   "source": [
    "billboard100_df.to_csv('billboard.csv')"
   ]
  },
  {
   "cell_type": "code",
   "execution_count": null,
   "metadata": {},
   "outputs": [],
   "source": [
    "# # 2019\n",
    "# url = url_template + str(2019)\n",
    "\n",
    "# temp_df = pd.read_html(url, header=0)[0]\n",
    "\n",
    "# temp_df.columns.values[2] = \"Artist\"\n",
    "\n",
    "# temp_df = temp_df.drop(temp_df.columns[0], axis=1)\n",
    "# temp_df.Artist = [artist.split(' featuring')[0] for artist in temp_df.Artist]\n",
    "# temp_df.Title = [title.strip('\\\"') for title in temp_df.Title]\n",
    "# temp_df['Year'] = 2019\n",
    "# temp_df.head()\n",
    "# billboard100_df = billboard100_df.append(temp_df)\n",
    "\n",
    "# # 2020\n",
    "# url = url_template + str(2020)\n",
    "\n",
    "# temp_df = pd.read_html(url, header=0)[0]\n",
    "\n",
    "# temp_df.columns.values[2] = \"Artist\"\n",
    "\n",
    "# temp_df = temp_df.drop(temp_df.columns[0], axis=1)\n",
    "# temp_df.Artist = [artist.split(' featuring')[0] for artist in temp_df.Artist]\n",
    "# temp_df.Title = [title.strip('\\\"') for title in temp_df.Title]\n",
    "# temp_df['Year'] = 2020\n",
    "# temp_df.head()\n",
    "# billboard100_df = billboard100_df.append(temp_df)\n",
    "\n",
    "# # 2021\n",
    "# url = url_template + str(2021)\n",
    "\n",
    "# temp_df = pd.read_html(url, header=0)[0]\n",
    "\n",
    "# temp_df.columns.values[2] = \"Artist\"\n",
    "\n",
    "# temp_df = temp_df.drop(temp_df.columns[0], axis=1)\n",
    "# temp_df.Artist = [artist.split(' featuring')[0] for artist in temp_df.Artist]\n",
    "# temp_df.Title = [title.strip('\\\"') for title in temp_df.Title]\n",
    "# temp_df['Year'] = 2021\n",
    "# temp_df.head()\n",
    "# billboard100_df = billboard100_df.append(temp_df)\n",
    "\n",
    "# # 2022\n",
    "# url = url_template + str(2022)\n",
    "\n",
    "# temp_df = pd.read_html(url, header=0)[0]\n",
    "\n",
    "# temp_df.columns.values[2] = \"Artist\"\n",
    "\n",
    "# temp_df = temp_df.drop(temp_df.columns[0], axis=1)\n",
    "# temp_df.Artist = [artist.split(' featuring')[0] for artist in temp_df.Artist]\n",
    "# temp_df.Title = [title.strip('\\\"') for title in temp_df.Title]\n",
    "# temp_df['Year'] = 2022\n",
    "# temp_df.head()\n",
    "# billboard100_df = billboard100_df.append(temp_df)\n",
    "# # 2023\n",
    "# url = url_template + str(2023)\n",
    "\n",
    "# temp_df = pd.read_html(url, header=0)[1]\n",
    "\n",
    "# temp_df.columns.values[2] = \"Artist\"\n",
    "\n",
    "# temp_df = temp_df.drop(temp_df.columns[0], axis=1)\n",
    "# temp_df.Artist = [artist.split(' featuring')[0] for artist in temp_df.Artist]\n",
    "# temp_df.Title = [title.strip('\\\"') for title in temp_df.Title]\n",
    "# temp_df['Year'] = 2023\n",
    "# temp_df.head()\n",
    "# billboard100_df = billboard100_df.append(temp_df)"
   ]
  },
  {
   "cell_type": "code",
   "execution_count": null,
   "metadata": {},
   "outputs": [],
   "source": []
  }
 ],
 "metadata": {
  "kernelspec": {
   "display_name": "Python 3",
   "language": "python",
   "name": "python3"
  },
  "language_info": {
   "codemirror_mode": {
    "name": "ipython",
    "version": 3
   },
   "file_extension": ".py",
   "mimetype": "text/x-python",
   "name": "python",
   "nbconvert_exporter": "python",
   "pygments_lexer": "ipython3",
   "version": "3.11.4"
  }
 },
 "nbformat": 4,
 "nbformat_minor": 2
}
