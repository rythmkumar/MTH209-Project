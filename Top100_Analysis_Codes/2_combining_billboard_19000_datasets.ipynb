{
 "cells": [
  {
   "cell_type": "code",
   "execution_count": 1,
   "metadata": {},
   "outputs": [],
   "source": [
    "import pandas as pd"
   ]
  },
  {
   "cell_type": "markdown",
   "metadata": {},
   "source": [
    "# Cleaning Spotify Songs"
   ]
  },
  {
   "cell_type": "code",
   "execution_count": 4,
   "metadata": {},
   "outputs": [],
   "source": [
    "spotify_songs = pd.read_csv('data/19000-spotify-songs/song_info.csv')"
   ]
  },
  {
   "cell_type": "code",
   "execution_count": 5,
   "metadata": {},
   "outputs": [
    {
     "name": "stderr",
     "output_type": "stream",
     "text": [
      "C:\\Users\\yashb\\AppData\\Local\\Temp\\ipykernel_15960\\2097802223.py:1: FutureWarning: In a future version of pandas all arguments of DataFrame.drop except for the argument 'labels' will be keyword-only.\n",
      "  spotify_songs = spotify_songs.drop('album_names', 1)\n",
      "C:\\Users\\yashb\\AppData\\Local\\Temp\\ipykernel_15960\\2097802223.py:2: FutureWarning: In a future version of pandas all arguments of DataFrame.drop except for the argument 'labels' will be keyword-only.\n",
      "  spotify_songs = spotify_songs.drop('playlist', 1)\n"
     ]
    }
   ],
   "source": [
    "spotify_songs = spotify_songs.drop('album_names', 1)\n",
    "spotify_songs = spotify_songs.drop('playlist', 1)\n",
    "\n",
    "spotify_songs = spotify_songs.rename(columns={\"song_name\": \"Title\", \"artist_name\": \"Artist\"})\n",
    "\n",
    "spotify_songs = spotify_songs.drop_duplicates(subset=\"Title\", keep=\"first\")"
   ]
  },
  {
   "cell_type": "markdown",
   "metadata": {},
   "source": [
    "# Cleaning Billboard Songs"
   ]
  },
  {
   "cell_type": "code",
   "execution_count": 6,
   "metadata": {},
   "outputs": [],
   "source": [
    "billboard = pd.read_csv('data/billboard.csv', index_col=0)"
   ]
  },
  {
   "cell_type": "code",
   "execution_count": 7,
   "metadata": {},
   "outputs": [
    {
     "name": "stderr",
     "output_type": "stream",
     "text": [
      "C:\\Users\\yashb\\AppData\\Local\\Temp\\ipykernel_15960\\1382406494.py:1: FutureWarning: In a future version of pandas all arguments of DataFrame.drop except for the argument 'labels' will be keyword-only.\n",
      "  billboard = billboard.drop('Year', 1)\n"
     ]
    }
   ],
   "source": [
    "billboard = billboard.drop('Year', 1)\n",
    "billboard = billboard.drop_duplicates(subset=\"Title\", keep=\"first\")"
   ]
  },
  {
   "cell_type": "markdown",
   "metadata": {},
   "source": [
    "# Combining DataFrames"
   ]
  },
  {
   "cell_type": "code",
   "execution_count": 8,
   "metadata": {},
   "outputs": [],
   "source": [
    "spotify_songs['Top100'] = 0\n",
    "billboard['Top100'] = 1"
   ]
  },
  {
   "cell_type": "code",
   "execution_count": 9,
   "metadata": {},
   "outputs": [],
   "source": [
    "combined_df = pd.concat([spotify_songs, billboard], ignore_index=True, sort=True)"
   ]
  },
  {
   "cell_type": "code",
   "execution_count": 10,
   "metadata": {},
   "outputs": [],
   "source": [
    "combined_df = combined_df.drop_duplicates(subset=\"Title\", keep=\"last\")"
   ]
  },
  {
   "cell_type": "code",
   "execution_count": 11,
   "metadata": {},
   "outputs": [
    {
     "data": {
      "text/html": [
       "<div>\n",
       "<style scoped>\n",
       "    .dataframe tbody tr th:only-of-type {\n",
       "        vertical-align: middle;\n",
       "    }\n",
       "\n",
       "    .dataframe tbody tr th {\n",
       "        vertical-align: top;\n",
       "    }\n",
       "\n",
       "    .dataframe thead th {\n",
       "        text-align: right;\n",
       "    }\n",
       "</style>\n",
       "<table border=\"1\" class=\"dataframe\">\n",
       "  <thead>\n",
       "    <tr style=\"text-align: right;\">\n",
       "      <th></th>\n",
       "      <th>Artist</th>\n",
       "      <th>Title</th>\n",
       "      <th>Top100</th>\n",
       "    </tr>\n",
       "  </thead>\n",
       "  <tbody>\n",
       "    <tr>\n",
       "      <th>1</th>\n",
       "      <td>Linkin Park</td>\n",
       "      <td>In The End</td>\n",
       "      <td>0</td>\n",
       "    </tr>\n",
       "    <tr>\n",
       "      <th>2</th>\n",
       "      <td>The White Stripes</td>\n",
       "      <td>Seven Nation Army</td>\n",
       "      <td>0</td>\n",
       "    </tr>\n",
       "    <tr>\n",
       "      <th>3</th>\n",
       "      <td>Red Hot Chili Peppers</td>\n",
       "      <td>By The Way</td>\n",
       "      <td>0</td>\n",
       "    </tr>\n",
       "    <tr>\n",
       "      <th>5</th>\n",
       "      <td>Evanescence</td>\n",
       "      <td>Bring Me To Life</td>\n",
       "      <td>0</td>\n",
       "    </tr>\n",
       "    <tr>\n",
       "      <th>6</th>\n",
       "      <td>Papa Roach</td>\n",
       "      <td>Last Resort</td>\n",
       "      <td>0</td>\n",
       "    </tr>\n",
       "    <tr>\n",
       "      <th>...</th>\n",
       "      <td>...</td>\n",
       "      <td>...</td>\n",
       "      <td>...</td>\n",
       "    </tr>\n",
       "    <tr>\n",
       "      <th>14729</th>\n",
       "      <td>Daddy Yankee</td>\n",
       "      <td>Dura</td>\n",
       "      <td>1</td>\n",
       "    </tr>\n",
       "    <tr>\n",
       "      <th>14730</th>\n",
       "      <td>XXXTentacion</td>\n",
       "      <td>Changes</td>\n",
       "      <td>1</td>\n",
       "    </tr>\n",
       "    <tr>\n",
       "      <th>14731</th>\n",
       "      <td>Luke Combs</td>\n",
       "      <td>One Number Away</td>\n",
       "      <td>1</td>\n",
       "    </tr>\n",
       "    <tr>\n",
       "      <th>14732</th>\n",
       "      <td>Rae Sremmurd</td>\n",
       "      <td>Powerglide</td>\n",
       "      <td>1</td>\n",
       "    </tr>\n",
       "    <tr>\n",
       "      <th>14733</th>\n",
       "      <td>Dua Lipa</td>\n",
       "      <td>IDGAF</td>\n",
       "      <td>1</td>\n",
       "    </tr>\n",
       "  </tbody>\n",
       "</table>\n",
       "<p>14103 rows × 3 columns</p>\n",
       "</div>"
      ],
      "text/plain": [
       "                      Artist              Title  Top100\n",
       "1                Linkin Park         In The End       0\n",
       "2          The White Stripes  Seven Nation Army       0\n",
       "3      Red Hot Chili Peppers         By The Way       0\n",
       "5                Evanescence   Bring Me To Life       0\n",
       "6                 Papa Roach        Last Resort       0\n",
       "...                      ...                ...     ...\n",
       "14729           Daddy Yankee               Dura       1\n",
       "14730           XXXTentacion            Changes       1\n",
       "14731             Luke Combs    One Number Away       1\n",
       "14732           Rae Sremmurd         Powerglide       1\n",
       "14733               Dua Lipa              IDGAF       1\n",
       "\n",
       "[14103 rows x 3 columns]"
      ]
     },
     "execution_count": 11,
     "metadata": {},
     "output_type": "execute_result"
    }
   ],
   "source": [
    "combined_df"
   ]
  },
  {
   "cell_type": "code",
   "execution_count": 12,
   "metadata": {},
   "outputs": [],
   "source": [
    "combined_df.to_csv('data/songs.csv')"
   ]
  },
  {
   "cell_type": "code",
   "execution_count": null,
   "metadata": {},
   "outputs": [],
   "source": []
  }
 ],
 "metadata": {
  "kernelspec": {
   "display_name": "Python 3",
   "language": "python",
   "name": "python3"
  },
  "language_info": {
   "codemirror_mode": {
    "name": "ipython",
    "version": 3
   },
   "file_extension": ".py",
   "mimetype": "text/x-python",
   "name": "python",
   "nbconvert_exporter": "python",
   "pygments_lexer": "ipython3",
   "version": "3.11.4"
  }
 },
 "nbformat": 4,
 "nbformat_minor": 2
}
